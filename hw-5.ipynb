{
 "cells": [
  {
   "cell_type": "markdown",
   "id": "516177ee",
   "metadata": {},
   "source": [
    "## Задание 1"
   ]
  },
  {
   "cell_type": "code",
   "execution_count": null,
   "id": "0005054f",
   "metadata": {},
   "outputs": [],
   "source": [
    "import json"
   ]
  },
  {
   "cell_type": "code",
   "execution_count": null,
   "id": "9821d9bc",
   "metadata": {},
   "outputs": [],
   "source": [
    "purchases = {}\n",
    "with open('purchase_log.txt', encoding = 'utf-8') as f:\n",
    "    for line in f:\n",
    "        dict_ = json.loads(line)\n",
    "        purchases[ dict_['user_id'] ] = dict_['category']\n",
    "        \n",
    "f.close()"
   ]
  },
  {
   "cell_type": "markdown",
   "id": "bcba71cc",
   "metadata": {},
   "source": [
    "## Задание 2"
   ]
  },
  {
   "cell_type": "code",
   "execution_count": null,
   "id": "54a72f79",
   "metadata": {},
   "outputs": [],
   "source": [
    "list_of_purchase = []\n",
    "\n",
    "with open('purchase_log.txt') as pur_fl:\n",
    "    for line in pur_fl:\n",
    "        dict_ = json.loads(line)\n",
    "        list_of_purchase.append(dict_)\n",
    "\n",
    "def products_name_ram(prod_name):\n",
    "    for d in list_of_purchase:\n",
    "        if (d['user_id'] == prod_name):\n",
    "            return d['category']\n",
    "    return None\n",
    "with open('funnel.csv', 'w') as result:\n",
    "    with open('visit_log.csv') as vis_lg:\n",
    "        for line in vis_lg:\n",
    "            user_id =line.strip().split(',')[0]\n",
    "            category = products_name_ram(user_id)\n",
    "            if category:\n",
    "                line_out = line.rstrip() + ', ' + str(category) + '\\r'\n",
    "                result.write(line_out)"
   ]
  }
 ],
 "metadata": {
  "kernelspec": {
   "display_name": "Python 3",
   "language": "python",
   "name": "python3"
  },
  "language_info": {
   "codemirror_mode": {
    "name": "ipython",
    "version": 3
   },
   "file_extension": ".py",
   "mimetype": "text/x-python",
   "name": "python",
   "nbconvert_exporter": "python",
   "pygments_lexer": "ipython3",
   "version": "3.8.8"
  }
 },
 "nbformat": 4,
 "nbformat_minor": 5
}
